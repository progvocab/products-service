from sagemaker import tensorflow,  get_execution_role ,Session 

role = get_execution_role()
session = Session()

job_list = boto3.client('sagemaker').list_training_jobs()['TrainingJobSummaries']
model_data_location = 's3://products-ai/model/{job_name}/output/model.tar.gz'.format( job_list [0]['TrainingJobName'])

model = tensorflow.model.TensorFlowModel( model_data = model_data_location ,role =role ,framework_version ='2.3' )

predictor = model.deploy( initial_instance_count =1 , instance_type ='ml.m4.large')

endpoint = predictor.endpoint


