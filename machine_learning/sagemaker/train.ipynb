from sagemaker import Session, get_execution_role,image_uris,estimator

session = Session()
account = 
region =session.boto_session.requion_name
role = 
output_location = 
training_data_location = 
validation_data_location = 

model_image = image_uris.retrieve('linear-learner' , region )
learner = estimator.Estimator(model_image,role,instance_count =1 , instance_type ='ml.m5.large' , output_location , sagemaker_sesssion =session)


learner.fit( { 'train' : training_data_location , 'validation' : validation_data_location })




